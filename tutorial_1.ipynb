{
  "cells": [
    {
      "cell_type": "markdown",
      "metadata": {
        "id": "view-in-github",
        "colab_type": "text"
      },
      "source": [
        "<a href=\"https://colab.research.google.com/github/SzymonFabian/Nighttime_Lights/blob/main/tutorial_1.ipynb\" target=\"_parent\"><img src=\"https://colab.research.google.com/assets/colab-badge.svg\" alt=\"Open In Colab\"/></a>"
      ]
    },
    {
      "cell_type": "markdown",
      "metadata": {
        "id": "Tyvh3TBLD3VX"
      },
      "source": [
        "[![Open In Colab](https://colab.research.google.com/assets/colab-badge.svg)](https://colab.research.google.com/github/worldbank/OpenNightLights/blob/master/onl/tutorials/mod2_6_practical_exercise-image_visualization.ipynb)\n",
        "\n",
        "# Practical exercise: image visualization (10 min)\n",
        "\n",
        "When you’re working with maps and images, what is the first thing you want to do? Display it! In this exercise, we’re going to display nighttime lights for Nigeria in 1992 and 2013.\n",
        "\n",
        "**Prerequisites:**\n",
        "- Make sure you have Python, Jupyter notebooks, and geemap installed and are familiar with these packages\n",
        "- If not, you'll want to review the earlier sections in this module.\n",
        "\n",
        "**Our tasks in this exercise:**\n",
        "1. Initialize a map object with geemap\n",
        "2. Query DMSP-OLS data for 1992\n",
        "3. Create (and adjust) the Nigeria 1992 nighttime lights layer\n",
        "4. Change the map object's basemap\n",
        "5. Visual inspection\n",
        "6. Repeat steps 2 and 3 for DMSP-OLS 2013 data\n",
        "\n",
        "## Initialize a map object with geemap\n",
        "\n",
        "Later in this tutorial, we're going to show you how to import other geospatial data files, such as the boundaries to countries or sub-national regions, to help you analyze nighttime lights.\n",
        "\n",
        "For now, we're going to focus our scene on Nigeria, but we'll do that simply by centering our map on the capital city of Abuja, which we can find at approximately: latitude: 9.0 and longitude: 7.4.\n",
        "\n",
        "We'll set our map zoom factor to 6 to include the entire country in our view.\n",
        "\n",
        "You should get in the habit of saving parameters as variables. This makes it easy to re-use your code for different values."
      ]
    },
    {
      "cell_type": "code",
      "execution_count": null,
      "metadata": {
        "id": "uMKoz6JHD3Vi"
      },
      "outputs": [],
      "source": [
        "try:\n",
        "    import geemap, ee\n",
        "except ModuleNotFoundError:\n",
        "    if 'google.colab' in str(get_ipython()):\n",
        "        print(\"package not found, installing w/ pip in Google Colab...\")\n",
        "        !pip install geemap\n",
        "    else:\n",
        "        print(\"package not found, installing w/ conda...\")\n",
        "        !conda install mamba -c conda-forge -y\n",
        "        !mamba install geemap -c conda-forge -y\n",
        "    import geemap, ee"
      ]
    },
    {
      "cell_type": "code",
      "execution_count": 2,
      "metadata": {
        "id": "0P71rD6FD3Vj",
        "outputId": "d46847b8-002d-4640-8c23-7e49f9f4a860",
        "colab": {
          "base_uri": "https://localhost:8080/",
          "height": 176
        }
      },
      "outputs": [
        {
          "output_type": "stream",
          "name": "stdout",
          "text": [
            "To authorize access needed by Earth Engine, open the following URL in a web browser and follow the instructions. If the web browser does not start automatically, please manually browse the URL below.\n",
            "\n",
            "    https://code.earthengine.google.com/client-auth?scopes=https%3A//www.googleapis.com/auth/earthengine%20https%3A//www.googleapis.com/auth/devstorage.full_control&request_id=1A-aJzRnZWepvpnqxOnS2F6yU5r99G8c4PnwzJueYpg&tc=PQpzOpYMbrgWTd0HgOQ9UKFs6wy1J5HeRab_tbyeoFE&cc=yrLzNIZ6Wi7bV3fi4YlaQZ1IaQyikD0fzIvaWdcvwdo\n",
            "\n",
            "The authorization workflow will generate a code, which you should paste in the box below.\n",
            "Enter verification code: 4/1Adeu5BUBSdCsB2nmFQ8PYrnA-SWGv7JZR2ueatzZF9D6fC_dN7wqx0V-S7Y\n",
            "\n",
            "Successfully saved authorization token.\n"
          ]
        }
      ],
      "source": [
        "try:\n",
        "        ee.Initialize()\n",
        "except Exception as e:\n",
        "        ee.Authenticate()\n",
        "        ee.Initialize()\n",
        "\n",
        "# set our initial map parameters for Abuja, Nigeria\n",
        "center_lat = 9.0\n",
        "center_lon = 7.4\n",
        "zoomlevel=6\n",
        "\n",
        "# initialize our map\n",
        "myFirstMap = geemap.Map(center=[center_lat,center_lon], zoom=zoomlevel)"
      ]
    },
    {
      "cell_type": "markdown",
      "metadata": {
        "id": "ySsr0FnBD3Vk"
      },
      "source": [
        "<div class=\"alert alert-warning\">\n",
        "Recall that to use GEE you need an account. The first time you execute this cell, you'll be prompted to enter your authentication code. Another browser window will open where you can select the Google account you have associated with your GEE account. Copy the authentication code provided and enter it in the input box provided in this notebook and hit enter and you should be ready to go. You should not need to do this again on this computer. </div>"
      ]
    },
    {
      "cell_type": "code",
      "execution_count": 3,
      "metadata": {
        "id": "HtxwRQQrD3Vk",
        "outputId": "bafb24d3-0b57-4ee3-cfbb-a01f037d4b36",
        "colab": {
          "base_uri": "https://localhost:8080/",
          "height": 621,
          "referenced_widgets": [
            "900ca6c97a2d43b08689e5f03ef5a7f8",
            "4e5be2f8a5094651bdf06c2821ae740a",
            "dae0cdc8f9334aeba1270de49e5012c4",
            "f42172aba681455aae30698856d753a9",
            "233ff5105cfa486898441d5ff24ef194",
            "69ae71b86f5748f3bbcdcfbaf9e96dd9",
            "d85b8571f0ae42af8a6affe67c6bd32c",
            "f2dd9db44463463c9fa18fec2cd1bcc6",
            "b9461caa95da4b3fa54d923e2dff5d90",
            "936014c0582c43e19271f96024fd190d",
            "9e6166a1e8b046ca9b711d66d52b5019",
            "a7851b7c66284cd587c9d54b44305171",
            "ce37fab56d5c41e787eb3585e996b353",
            "2e64a8062bed4340bb9306e2be570036",
            "5dd705d6fdf74f64bc779b02dbf79846",
            "e6f49249f3924f918292faf8a0111e1a",
            "12a7d4a1ad294c8fa21c75a8d2ef40f3",
            "9d1acb1f168b49e99d5e7c97103bf431",
            "f7defb671ebb4017b17d70e5c16e0091",
            "fcf08450bfc543799be2c86643b2e6c0",
            "2a070c0ffeb64d2a891fcb4ffc55ee0c",
            "a4cb8171b13e4010b903f2db6f9a95c1",
            "a3bfb863c21141db90750a277263b31a",
            "438c6894b8ae4a69aba6051f2950e72b",
            "37e627c79f19401083c41fab8fcff13d",
            "fb0e099173bd4200b10c2958b31a833d"
          ]
        }
      },
      "outputs": [
        {
          "output_type": "display_data",
          "data": {
            "text/plain": [
              "Map(center=[9.0, 7.4], controls=(WidgetControl(options=['position', 'transparent_bg'], widget=HBox(children=(T…"
            ],
            "application/vnd.jupyter.widget-view+json": {
              "version_major": 2,
              "version_minor": 0,
              "model_id": "900ca6c97a2d43b08689e5f03ef5a7f8"
            }
          },
          "metadata": {
            "application/vnd.jupyter.widget-view+json": {
              "colab": {
                "custom_widget_manager": {
                  "url": "https://ssl.gstatic.com/colaboratory-static/widgets/colab-cdn-widget-manager/b3e629b1971e1542/manager.min.js"
                }
              }
            }
          }
        }
      ],
      "source": [
        "# display our map\n",
        "myFirstMap.addLayerControl()\n",
        "myFirstMap"
      ]
    },
    {
      "cell_type": "markdown",
      "metadata": {
        "id": "7ttZdDJoD3Vl"
      },
      "source": [
        "<div class=\"alert alert-warning\">\n",
        "Once you've authenticated. Executing the previous cell (selecting `Run` or SHIFT + ENTER) should display a map, centered on the Nigerian capital city of Abuja.<br><br>\n",
        "If you don't see a map: don't panic! But you've run into one of the challenges of interpreted open-source languages -- your Python packages and dependencies, including Jupyter notebook, and your computer's \"back-end\" software may not be in sync.</div>\n",
        "\n",
        "First, make sure `geemap` and `jupyter` are installed properly as per our earlier tutorials referenced above. If you're using a virtual environment, make sure that's activated and geemap is installed within it!\n",
        "\n",
        "If that doesnt resolve the issue, another fix is to make sure your Jupyter extensions enable `ipyleaflet` by running this code in command line.\n",
        "\n",
        "Recall from an earlier tutorial that in Jupyter notebooks you can make system calls (such as you would in command line prompt) by adding a bang (exclamaition point) to your notebook code, like this:"
      ]
    },
    {
      "cell_type": "code",
      "execution_count": null,
      "metadata": {
        "id": "EiS3LfAjD3Vm",
        "outputId": "f017cea8-21dd-44cc-e905-3d2a0ba6819f"
      },
      "outputs": [
        {
          "name": "stdout",
          "output_type": "stream",
          "text": [
            "Enabling notebook extension jupyter-leaflet/extension...\r\n",
            "      - Validating: \u001b[32mOK\u001b[0m\r\n"
          ]
        }
      ],
      "source": [
        "# !jupyter nbextension enable --py --sys-prefix ipyleaflet"
      ]
    },
    {
      "cell_type": "markdown",
      "metadata": {
        "id": "3YbgqiFyD3Vm"
      },
      "source": [
        "You may have to close out and restart your notebook and even your Python session after this, but you should only have to do this once.\n",
        "\n",
        "**A note on troubleshooting**\n",
        "At this point, hopefully, you've got `geemap` set up and working.\n",
        "\n",
        "If not, you'll want to troubleshoot possible issues and there are many forums for discussing common problems, such as <a href=\"https://stackoverflow.com/\">stackoverflow.com</a>.\n",
        "\n",
        "If you learn to do this, it will serve you well. Troubles can be frustrating, but \"shooting\" them requires problem-solving that helps you better understand what you're doing and become a better programmer and data scientist.\n",
        "\n",
        "\n",
        "## Query DMSP-OLS data for 1992\n",
        "\n",
        "### Get DMSP-OLS image ID for 1992\n",
        "\n",
        "Now we want to query our nighttime lights. We're looking at the DMSP-OLS series. **Images** are what Google Earth Engine uses to describe raster files and **ImageCollections** are collections (like a time series) of images. We're looking for the DMSP-OLS Nighttime lights ImageCollection.\n",
        "\n",
        "<a href=\"https://code.earthengine.google.com/\">https://code.earthengine.google.com/</a>\n",
        "\n",
        "It's easy to search for particular collections. For example, if you're using the GEE code editor, search for \"DMSP\" and it will prompt you for 2 collections: we want the nighttime lights.\n",
        "\n",
        "![DMSP_search](https://github.com/worldbank/OpenNightLights/blob/master/onl/tutorials/img/mod1_7_fig2.png?raw=1)\n",
        "\n",
        "Select the collection for \"Nighttime lights\" and in the window that appears, you'll see the exact collect ID (highlighed in the lower left). `NOAA/DMSP-OLS/NIGHTTIME_LIGHTS`\n",
        "\n",
        "![DMSP_window](https://github.com/worldbank/OpenNightLights/blob/master/onl/tutorials/img/mod1_7_fig3.png?raw=1)\n",
        "\n",
        "For quering this data via the API, this ImageCollection ID is what we are looking for: `NOAA/DMSP-OLS/NIGHTTIME_LIGHTS`\n",
        "\n",
        "That full collection is a lot of data; however. And all we really need is the image for 1992. Since the DMSP-OLS nighttime lights are available annually, we're looking for a single Image.\n",
        "\n",
        "Recall that the DMSP is composed of six satellites spanning 1992 to 2013. The satellite designated \"F10\" is what provided images for 1992.\n",
        "\n",
        "**HINT** from {doc}`mod1_2_introduction_to_nighttime_light_data`: <a href=\"https://ngdc.noaa.gov/eog/dmsp/downloadV4composites.html\" class=\"alert-link\">NOAA`s\n",
        "National Center for Environmental Information</a> gives the mapping of years and DMSP satellites.\n",
        "\n",
        "Putting it together, the full file ID we need to query this image from GEE is: `NOAA/DMSP-OLS/NIGHTTIME_LIGHTS/F101992`\n",
        "\n",
        "Again, let's get in the habit of setting variables so we avoid repetition (including repeated typos!)"
      ]
    },
    {
      "cell_type": "code",
      "execution_count": null,
      "metadata": {
        "id": "pAHEIzHQD3Vn"
      },
      "outputs": [],
      "source": [
        "dmsp92id = \"NOAA/DMSP-OLS/NIGHTTIME_LIGHTS/F101992\""
      ]
    },
    {
      "cell_type": "markdown",
      "metadata": {
        "id": "YnHblIB9D3Vn"
      },
      "source": [
        "## Create (and adjust) the Nigeria 1992 nighttime lights layer\n",
        "\n",
        "Now that we know what Image we're looking for, we can query it via the Python API and add it as a layer to another map. You should be able to just add this layer to your existing map object, but the implementation in Colab is a little tricky so for we'll just create new maps for simplicity."
      ]
    },
    {
      "cell_type": "code",
      "execution_count": null,
      "metadata": {
        "id": "J7Hp55tyD3Vo",
        "outputId": "b33f16e4-9c79-4142-add1-c89ea9170e48",
        "colab": {
          "referenced_widgets": [
            "d5d0cf9ea8964d8eaa4a39cbd63c1d89"
          ]
        }
      },
      "outputs": [
        {
          "data": {
            "application/vnd.jupyter.widget-view+json": {
              "model_id": "d5d0cf9ea8964d8eaa4a39cbd63c1d89",
              "version_major": 2,
              "version_minor": 0
            },
            "text/plain": [
              "Map(center=[9.0, 7.4], controls=(WidgetControl(options=['position', 'transparent_bg'], widget=HBox(children=(T…"
            ]
          },
          "metadata": {},
          "output_type": "display_data"
        }
      ],
      "source": [
        "# create an ee object for our 1992 image\n",
        "# note that for DMSP, there is only one band, so we dont need to worry about selecting a band.\n",
        "dmsp92 = ee.Image(dmsp92id)\n",
        "\n",
        "# initialize another map add this image as a layer to our map object\n",
        "# and call the layer: \"DMSP NTL 1992\"\n",
        "Map2 = geemap.Map(center=[center_lat,center_lon], zoom=zoomlevel)\n",
        "Map2.addLayer(dmsp92, name='DMSP NTL 1992')\n",
        "\n",
        "Map2.addLayerControl()\n",
        "Map2"
      ]
    },
    {
      "cell_type": "markdown",
      "metadata": {
        "id": "dC9I7ZuZD3Vo"
      },
      "source": [
        "Voila! We have a nighttime layer from the 1992 DMSP-OLS composite.\n",
        "\n",
        "### Changing opacity\n",
        "You may notice it's quite dark; however. You can always toggle the layer off, but if you want to visualize the nighttime lights over the basemap, you'll want to change the opacity of your nighttime lights layer. Fortunately, this is very easy for us to do.\n",
        "\n",
        "Our `.addLayer` function allows for other visual parameters, like `opacity`. Let's give this layer an opacity of 75%:"
      ]
    },
    {
      "cell_type": "code",
      "execution_count": null,
      "metadata": {
        "id": "UggQ12f5D3Vo",
        "outputId": "ebe6f5c7-4e20-4993-d120-4f715f626524",
        "colab": {
          "referenced_widgets": [
            "56bf7c7ee5a74503888b6e4178835a51"
          ]
        }
      },
      "outputs": [
        {
          "data": {
            "application/vnd.jupyter.widget-view+json": {
              "model_id": "56bf7c7ee5a74503888b6e4178835a51",
              "version_major": 2,
              "version_minor": 0
            },
            "text/plain": [
              "Map(center=[9.0, 7.4], controls=(WidgetControl(options=['position', 'transparent_bg'], widget=HBox(children=(T…"
            ]
          },
          "metadata": {},
          "output_type": "display_data"
        }
      ],
      "source": [
        "Map3 = geemap.Map(center=[center_lat,center_lon], zoom=zoomlevel)\n",
        "Map3.addLayer(dmsp92, name='DMSP NTL 1992', opacity=0.75)\n",
        "\n",
        "Map3.addLayerControl()\n",
        "Map3"
      ]
    },
    {
      "cell_type": "markdown",
      "metadata": {
        "id": "rAdk899kD3Vp"
      },
      "source": [
        "## Creating a mask\n",
        "Another important step to \"clean\" your image will be to create a mask that filters out zero or negative values, which can happen after preprocessing for noisy and low-light pixels.\n",
        "\n",
        "This can be done when adding (or updating) a layer. The ee Image object we created, `dmsp92`, has a built-in method called `.mask()` and when we call that and pass the Image itself as an argument, we get the mask.\n",
        "\n",
        "<div class=\"alert alert-success\">\n",
        "<a href=\"https://developers.google.com/earth-engine/tutorials/tutorial_api_05#masking\">This documentation</a> gives  more info on the GEE API .mask() call and we'll get into more detail on these data processing steps later.</div>\n",
        "\n",
        "This time, let's change the name so that we create a new layer. Then we'll have a masked and non-masked 1992 layer:"
      ]
    },
    {
      "cell_type": "code",
      "execution_count": null,
      "metadata": {
        "id": "JIUIouU0D3Vp",
        "outputId": "a7c6b457-4283-4fde-9c21-2f97cd450ebc",
        "colab": {
          "referenced_widgets": [
            "ba95d2f281414ddcb46355d9a79cde03"
          ]
        }
      },
      "outputs": [
        {
          "data": {
            "application/vnd.jupyter.widget-view+json": {
              "model_id": "ba95d2f281414ddcb46355d9a79cde03",
              "version_major": 2,
              "version_minor": 0
            },
            "text/plain": [
              "Map(center=[9.0, 7.4], controls=(WidgetControl(options=['position', 'transparent_bg'], widget=HBox(children=(T…"
            ]
          },
          "metadata": {},
          "output_type": "display_data"
        }
      ],
      "source": [
        "Map4 = geemap.Map(center=[center_lat,center_lon], zoom=zoomlevel)\n",
        "Map4.addLayer(dmsp92.mask(dmsp92), name='DMSP NTL 1992 masked', opacity=0.75)\n",
        "\n",
        "Map4.addLayerControl()\n",
        "Map4"
      ]
    },
    {
      "cell_type": "markdown",
      "metadata": {
        "id": "ngimOTaVD3Vp"
      },
      "source": [
        "## Change the basemap\n",
        "\n",
        "Go to the cell with our map object and re-run the cell, updating it. You should now have two layers (intial 1992 and masked 1992) and you can toggle between them. You can imagine that the masked layer makes it easier to inspect the underlying basemap layer.\n",
        "\n",
        "The default basemap is Open Street Maps (OSM). But if you want to analyze nighttime lights according to land build-up as seen in daylight images (such as from LANDSAT), you can change the basemap (if you're more advanced you can search GEE for your own layers of course).\n",
        "\n",
        "There are a few dozen options to choose from for geemap basemaps. While there's not documentation yet, you can see the options in the <a href=\"https://github.com/giswqs/geemap/blob/master/geemap/basemaps.py\">source code itself.</a>. Some of these have also been added to `ipyleaflet`'s library.\n",
        "\n",
        "Navigate to that source code link and review the options. Let's choose the default \"SATELLITE\" basemap which appears to be of the Google maps daytime satellite view."
      ]
    },
    {
      "cell_type": "code",
      "execution_count": null,
      "metadata": {
        "id": "jhhq-yioD3Vp",
        "outputId": "a76119a7-79e1-40a9-99ae-db99d8b6329b",
        "colab": {
          "referenced_widgets": [
            "336c59505052412198729c3631e730b0"
          ]
        }
      },
      "outputs": [
        {
          "data": {
            "application/vnd.jupyter.widget-view+json": {
              "model_id": "336c59505052412198729c3631e730b0",
              "version_major": 2,
              "version_minor": 0
            },
            "text/plain": [
              "Map(center=[9.0, 7.4], controls=(WidgetControl(options=['position', 'transparent_bg'], widget=HBox(children=(T…"
            ]
          },
          "metadata": {},
          "output_type": "display_data"
        }
      ],
      "source": [
        "# initial map object centered on Abuja\n",
        "Map5 = geemap.Map(center=[center_lat,center_lon], zoom=zoomlevel)\n",
        "\n",
        "# add our alternate basemap\n",
        "Map5.add_basemap(\"SATELLITE\")\n",
        "\n",
        "# add our 1992 (and remember to create a mask and change opacity to 75%)\n",
        "Map5.addLayer(dmsp92.mask(dmsp92), name='DMSP NTL 1992 masked', opacity=0.75)\n",
        "\n",
        "Map5.addLayerControl()\n",
        "Map5"
      ]
    },
    {
      "cell_type": "markdown",
      "metadata": {
        "id": "pOgQUN6LD3Vp"
      },
      "source": [
        "## Visual inspection\n",
        "\n",
        "Now you can look at nighttime layer and compare it to our satellite view basemap.\n",
        "\n",
        "Take a look around. Interact with the map you just created:\n",
        "- Toggle the satellte basemap off to compare nighttime lights to the road network as well as the satellite view. There should be an icon in the upper right corner that will  allow you to do this.\n",
        "- Navigate to Abuja and zoom in.\n",
        "- Can you see where the overlap of the nighttime lights are with the roads and \"built up\" areas?\n",
        "- How well do they overlap?\n",
        "- Are there any surprises?\n",
        "- What about other parts of Nigeria?"
      ]
    },
    {
      "cell_type": "markdown",
      "metadata": {
        "id": "5s8zq_zKD3Vq"
      },
      "source": [
        "## Add a layer for DMSP-OLS 2013\n",
        "\n",
        "Now let's look at nighttime lights for 2013.\n",
        "\n",
        "To do this, we can just add a new layer to our object.\n",
        "\n",
        "Can you do this on your own?"
      ]
    },
    {
      "cell_type": "code",
      "execution_count": null,
      "metadata": {
        "id": "RNYkh38DD3Vq"
      },
      "outputs": [],
      "source": [
        "# your code here\n"
      ]
    },
    {
      "cell_type": "markdown",
      "metadata": {
        "id": "QOU0Ls38D3Vq"
      },
      "source": [
        "<br><br><br><br><br><br><br><br><br><br><br><br>\n",
        "\n",
        "Need some hints?"
      ]
    },
    {
      "cell_type": "code",
      "execution_count": null,
      "metadata": {
        "id": "rE5My66-D3Vq"
      },
      "outputs": [],
      "source": [
        "# find the Image ID for DMSP-OLS 2013 and set it as a new variable (hint: the satellite's name is \"F18\")\n",
        "\n",
        "\n",
        "# create the ee object\n",
        "\n",
        "\n",
        "# initialize a map object, centered on Abuja\n",
        "\n",
        "\n",
        "# name it \"DMSP NTL 2013\", create a mask, and give it an opacity of 75%.\n"
      ]
    },
    {
      "cell_type": "markdown",
      "metadata": {
        "id": "nzq_nycrD3Vr"
      },
      "source": [
        "Scroll on for more hints...\n",
        "\n",
        "<br><br><br><br><br><br><br><br><br><br><br><br>"
      ]
    },
    {
      "cell_type": "code",
      "execution_count": null,
      "metadata": {
        "id": "Y-Cxtw5eD3Vr",
        "outputId": "69463bcc-4cc2-4c6f-93ba-36bf21b78d71",
        "colab": {
          "referenced_widgets": [
            "31e3467980354f348d78a04eb8e1bd00"
          ]
        }
      },
      "outputs": [
        {
          "data": {
            "application/vnd.jupyter.widget-view+json": {
              "model_id": "31e3467980354f348d78a04eb8e1bd00",
              "version_major": 2,
              "version_minor": 0
            },
            "text/plain": [
              "Map(center=[9.0, 7.4], controls=(WidgetControl(options=['position', 'transparent_bg'], widget=HBox(children=(T…"
            ]
          },
          "metadata": {},
          "output_type": "display_data"
        }
      ],
      "source": [
        "# find the Image ID and set it as a new variable (hint: the satellite's name is \"F18\")\n",
        "dmsp2013id = \"NOAA/DMSP-OLS/NIGHTTIME_LIGHTS/F182013\"\n",
        "\n",
        "# create the ee object\n",
        "dmsp2013 = ee.Image(dmsp2013id)\n",
        "\n",
        "# initial map object centered on Abuja\n",
        "Map6 = geemap.Map(center=[center_lat,center_lon], zoom=zoomlevel)\n",
        "\n",
        "# name it \"DMSP NTL 2013\" and give it an opacity of 75%.\n",
        "Map6.addLayer(dmsp2013.mask(dmsp2013), name='DMSP NTL 2013', opacity=0.75)\n",
        "\n",
        "Map6.addLayerControl()\n",
        "Map6"
      ]
    },
    {
      "cell_type": "markdown",
      "metadata": {
        "id": "mmq-IW2tD3Vr"
      },
      "source": [
        "Now that you have both years, you can toggle back and forth and compare the differences.\n",
        "\n",
        "Do you see any major changes?\n",
        "\n",
        "Zoom in for a closer look at Abuja: do you see the growth from 1992 to 2013?\n",
        "\n",
        "## Create a split planel view\n",
        "\n",
        "<div class=\"alert alert-warning\">\n",
        "Warning, this is based on `ipyleaflet` a Python library that does not play well with Google Colab, so this code will not work in the Google Colab environment but should on your local machine.</div>\n",
        "\n",
        "We've added our 2013 layer to compare with 1992, but it's kind of annoying to toggle each layer. It's also hard to truly compare. If we create a split panel view with a slider, we can more easily see the difference.\n",
        "\n",
        "There is a built-in method in `geemap` for this, which makes it simple to do.\n",
        "\n",
        "We've already created our 1992 and 2013 DMSP image objects and saved those as variables, so no need to re-create. We just need to generate a tile layer with each. But remember to mask them and let's again set opacity to 75%:"
      ]
    },
    {
      "cell_type": "code",
      "execution_count": null,
      "metadata": {
        "id": "eedWunEFD3Vs"
      },
      "outputs": [],
      "source": [
        "# generate tile layers from the ee image objects, masking and changing opacity to 75%\n",
        "dmsp92_tile = geemap.ee_tile_layer(dmsp92.mask(dmsp92), {}, 'DMSP NTL 1992', opacity=0.75)\n",
        "dmsp2013_tile = geemap.ee_tile_layer(dmsp2013.mask(dmsp2013), {}, 'DMSP NTL 2013', opacity=0.75)"
      ]
    },
    {
      "cell_type": "markdown",
      "metadata": {
        "id": "ICI1J6ysD3Vs"
      },
      "source": [
        "Initialize as before, but now you can also just alter the initial object we created, which is what we'll do. We can call the object's `.split_map()` method and set the left and panels with our 1992 and 2013 tile layers."
      ]
    },
    {
      "cell_type": "code",
      "execution_count": null,
      "metadata": {
        "id": "HKI9bOlVD3Vs",
        "outputId": "6ffde413-49a8-4a13-dd20-e8bbf0eec4f6",
        "colab": {
          "referenced_widgets": [
            "c1a2a24969994f5fadd811ab11e9d366"
          ]
        }
      },
      "outputs": [
        {
          "data": {
            "application/vnd.jupyter.widget-view+json": {
              "model_id": "c1a2a24969994f5fadd811ab11e9d366",
              "version_major": 2,
              "version_minor": 0
            },
            "text/plain": [
              "Map(center=[9.0, 7.4], controls=(WidgetControl(options=['position', 'transparent_bg'], widget=HBox(children=(T…"
            ]
          },
          "metadata": {},
          "output_type": "display_data"
        }
      ],
      "source": [
        "# initial map object centered on Abuja\n",
        "Map7 = geemap.Map(center=[center_lat,center_lon], zoom=zoomlevel)\n",
        "\n",
        "# use .split_map function to create split panels\n",
        "Map7.split_map(left_layer=dmsp92_tile, right_layer=dmsp2013_tile)\n",
        "\n",
        "\n",
        "Map7.addLayerControl()\n",
        "Map7"
      ]
    },
    {
      "cell_type": "markdown",
      "metadata": {
        "id": "vnXL5TrZD3Vs"
      },
      "source": [
        "Now when you refresh your map object above, you'll see a slider and the 1992 nighttime lights layer on the left with 2013 on the right.\n",
        "\n",
        "Slide it over Abuja: can you see the difference in the distribution of lights in 2013 compared to 1992?\n",
        "\n",
        "Look at some other regions around Nigeria.\n",
        "\n",
        "## On your own...\n",
        "Our primary objective was to get a feel for using `geemap`, GEE, and Jupyter notebooks. Hopefully, you've now done that.\n",
        "\n",
        "Try comparing other years of DMSP-OLS data by creating new layers. Keep exploring Nigeria or try navigating (and centering your initial map object) on other parts of the world.\n",
        "\n",
        "This interactive viewer is a simple way to view changes in an area, but the real power is in conducting analysis. You can image that quantifying the difference in nighttime lights from 1992 to 2013 or calculating the slope of change across a time series could reveal areas of high or low growth and other patterns.\n",
        "\n",
        "We'll learn how to do this as well as deal with important issues of calibration. These satellite detectors, like all sensors, can change over time or have inherent biases (known as \"instrument bias\"), so it's important understand how to address these in order to do a fair comparison."
      ]
    },
    {
      "cell_type": "code",
      "execution_count": null,
      "metadata": {
        "id": "iMpcrxLlD3Vt"
      },
      "outputs": [],
      "source": []
    }
  ],
  "metadata": {
    "hide_input": false,
    "kernelspec": {
      "display_name": "Python 3",
      "language": "python",
      "name": "python3"
    },
    "language_info": {
      "codemirror_mode": {
        "name": "ipython",
        "version": 3
      },
      "file_extension": ".py",
      "mimetype": "text/x-python",
      "name": "python",
      "nbconvert_exporter": "python",
      "pygments_lexer": "ipython3",
      "version": "3.7.9"
    },
    "toc": {
      "base_numbering": 1,
      "nav_menu": {},
      "number_sections": false,
      "sideBar": true,
      "skip_h1_title": false,
      "title_cell": "Table of Contents",
      "title_sidebar": "Contents",
      "toc_cell": false,
      "toc_position": {},
      "toc_section_display": true,
      "toc_window_display": false
    },
    "colab": {
      "provenance": [],
      "include_colab_link": true
    },
    "widgets": {
      "application/vnd.jupyter.widget-state+json": {
        "900ca6c97a2d43b08689e5f03ef5a7f8": {
          "model_module": "jupyter-leaflet",
          "model_name": "LeafletMapModel",
          "model_module_version": "^0.17",
          "state": {
            "_dom_classes": [],
            "_model_module": "jupyter-leaflet",
            "_model_module_version": "^0.17",
            "_model_name": "LeafletMapModel",
            "_view_count": null,
            "_view_module": "jupyter-leaflet",
            "_view_module_version": "^0.17",
            "_view_name": "LeafletMapView",
            "bottom": 8081,
            "bounce_at_zoom_limits": true,
            "box_zoom": true,
            "center": [
              9,
              7.4
            ],
            "close_popup_on_click": true,
            "controls": [
              "IPY_MODEL_4e5be2f8a5094651bdf06c2821ae740a",
              "IPY_MODEL_dae0cdc8f9334aeba1270de49e5012c4",
              "IPY_MODEL_f42172aba681455aae30698856d753a9",
              "IPY_MODEL_233ff5105cfa486898441d5ff24ef194",
              "IPY_MODEL_69ae71b86f5748f3bbcdcfbaf9e96dd9",
              "IPY_MODEL_d85b8571f0ae42af8a6affe67c6bd32c",
              "IPY_MODEL_f2dd9db44463463c9fa18fec2cd1bcc6",
              "IPY_MODEL_b9461caa95da4b3fa54d923e2dff5d90",
              "IPY_MODEL_936014c0582c43e19271f96024fd190d"
            ],
            "crs": {
              "name": "EPSG3857",
              "custom": false
            },
            "default_style": "IPY_MODEL_9e6166a1e8b046ca9b711d66d52b5019",
            "double_click_zoom": true,
            "dragging": true,
            "dragging_style": "IPY_MODEL_a7851b7c66284cd587c9d54b44305171",
            "east": 26.586914062500004,
            "fullscreen": false,
            "inertia": true,
            "inertia_deceleration": 3000,
            "inertia_max_speed": 1500,
            "interpolation": "bilinear",
            "keyboard": true,
            "keyboard_pan_offset": 80,
            "keyboard_zoom_offset": 1,
            "layers": [
              "IPY_MODEL_ce37fab56d5c41e787eb3585e996b353",
              "IPY_MODEL_2e64a8062bed4340bb9306e2be570036"
            ],
            "layout": "IPY_MODEL_5dd705d6fdf74f64bc779b02dbf79846",
            "left": 7656,
            "max_zoom": 24,
            "min_zoom": null,
            "modisdate": "2023-08-31",
            "north": 15.432500881886055,
            "options": [
              "bounce_at_zoom_limits",
              "box_zoom",
              "center",
              "close_popup_on_click",
              "double_click_zoom",
              "dragging",
              "fullscreen",
              "inertia",
              "inertia_deceleration",
              "inertia_max_speed",
              "interpolation",
              "keyboard",
              "keyboard_pan_offset",
              "keyboard_zoom_offset",
              "max_zoom",
              "min_zoom",
              "prefer_canvas",
              "scroll_wheel_zoom",
              "tap",
              "tap_tolerance",
              "touch_zoom",
              "world_copy_jump",
              "zoom",
              "zoom_animation_threshold",
              "zoom_delta",
              "zoom_snap"
            ],
            "panes": {},
            "prefer_canvas": false,
            "right": 9402,
            "scroll_wheel_zoom": true,
            "south": 2.438228596940692,
            "style": "IPY_MODEL_e6f49249f3924f918292faf8a0111e1a",
            "tap": true,
            "tap_tolerance": 15,
            "top": 7481,
            "touch_zoom": true,
            "west": -11.77734375,
            "window_url": "https://6n4qa1qu9uu-496ff2e9c6d22116-0-colab.googleusercontent.com/outputframe.html?vrz=colab_20230830-060109_RC00_561267947",
            "world_copy_jump": false,
            "zoom": 6,
            "zoom_animation_threshold": 4,
            "zoom_delta": 1,
            "zoom_snap": 1
          }
        },
        "4e5be2f8a5094651bdf06c2821ae740a": {
          "model_module": "jupyter-leaflet",
          "model_name": "LeafletWidgetControlModel",
          "model_module_version": "^0.17",
          "state": {
            "_model_module": "jupyter-leaflet",
            "_model_module_version": "^0.17",
            "_model_name": "LeafletWidgetControlModel",
            "_view_count": null,
            "_view_module": "jupyter-leaflet",
            "_view_module_version": "^0.17",
            "_view_name": "LeafletWidgetControlView",
            "max_height": null,
            "max_width": null,
            "min_height": null,
            "min_width": null,
            "options": [
              "position",
              "transparent_bg"
            ],
            "position": "topleft",
            "transparent_bg": false,
            "widget": "IPY_MODEL_12a7d4a1ad294c8fa21c75a8d2ef40f3"
          }
        },
        "dae0cdc8f9334aeba1270de49e5012c4": {
          "model_module": "jupyter-leaflet",
          "model_name": "LeafletZoomControlModel",
          "model_module_version": "^0.17",
          "state": {
            "_model_module": "jupyter-leaflet",
            "_model_module_version": "^0.17",
            "_model_name": "LeafletZoomControlModel",
            "_view_count": null,
            "_view_module": "jupyter-leaflet",
            "_view_module_version": "^0.17",
            "_view_name": "LeafletZoomControlView",
            "options": [
              "position",
              "zoom_in_text",
              "zoom_in_title",
              "zoom_out_text",
              "zoom_out_title"
            ],
            "position": "topleft",
            "zoom_in_text": "+",
            "zoom_in_title": "Zoom in",
            "zoom_out_text": "-",
            "zoom_out_title": "Zoom out"
          }
        },
        "f42172aba681455aae30698856d753a9": {
          "model_module": "jupyter-leaflet",
          "model_name": "LeafletFullScreenControlModel",
          "model_module_version": "^0.17",
          "state": {
            "_model_module": "jupyter-leaflet",
            "_model_module_version": "^0.17",
            "_model_name": "LeafletFullScreenControlModel",
            "_view_count": null,
            "_view_module": "jupyter-leaflet",
            "_view_module_version": "^0.17",
            "_view_name": "LeafletFullScreenControlView",
            "options": [
              "position"
            ],
            "position": "topleft"
          }
        },
        "233ff5105cfa486898441d5ff24ef194": {
          "model_module": "jupyter-leaflet",
          "model_name": "LeafletDrawControlModel",
          "model_module_version": "^0.17",
          "state": {
            "_model_module": "jupyter-leaflet",
            "_model_module_version": "^0.17",
            "_model_name": "LeafletDrawControlModel",
            "_view_count": null,
            "_view_module": "jupyter-leaflet",
            "_view_module_version": "^0.17",
            "_view_name": "LeafletDrawControlView",
            "circle": {},
            "circlemarker": {},
            "data": [],
            "edit": true,
            "marker": {
              "shapeOptions": {
                "color": "#3388ff"
              }
            },
            "options": [
              "position"
            ],
            "polygon": {
              "shapeOptions": {}
            },
            "polyline": {
              "shapeOptions": {}
            },
            "position": "topleft",
            "rectangle": {
              "shapeOptions": {
                "color": "#3388ff"
              }
            },
            "remove": true
          }
        },
        "69ae71b86f5748f3bbcdcfbaf9e96dd9": {
          "model_module": "jupyter-leaflet",
          "model_name": "LeafletScaleControlModel",
          "model_module_version": "^0.17",
          "state": {
            "_model_module": "jupyter-leaflet",
            "_model_module_version": "^0.17",
            "_model_name": "LeafletScaleControlModel",
            "_view_count": null,
            "_view_module": "jupyter-leaflet",
            "_view_module_version": "^0.17",
            "_view_name": "LeafletScaleControlView",
            "imperial": true,
            "max_width": 100,
            "metric": true,
            "options": [
              "imperial",
              "max_width",
              "metric",
              "position",
              "update_when_idle"
            ],
            "position": "bottomleft",
            "update_when_idle": false
          }
        },
        "d85b8571f0ae42af8a6affe67c6bd32c": {
          "model_module": "jupyter-leaflet",
          "model_name": "LeafletMeasureControlModel",
          "model_module_version": "^0.17",
          "state": {
            "_custom_units": {},
            "_model_module": "jupyter-leaflet",
            "_model_module_version": "^0.17",
            "_model_name": "LeafletMeasureControlModel",
            "_view_count": null,
            "_view_module": "jupyter-leaflet",
            "_view_module_version": "^0.17",
            "_view_name": "LeafletMeasureControlView",
            "active_color": "orange",
            "capture_z_index": 10000,
            "completed_color": "#C8F2BE",
            "options": [
              "active_color",
              "capture_z_index",
              "completed_color",
              "popup_options",
              "position",
              "primary_area_unit",
              "primary_length_unit",
              "secondary_area_unit",
              "secondary_length_unit"
            ],
            "popup_options": {
              "className": "leaflet-measure-resultpopup",
              "autoPanPadding": [
                10,
                10
              ]
            },
            "position": "bottomleft",
            "primary_area_unit": "acres",
            "primary_length_unit": "kilometers",
            "secondary_area_unit": null,
            "secondary_length_unit": null
          }
        },
        "f2dd9db44463463c9fa18fec2cd1bcc6": {
          "model_module": "jupyter-leaflet",
          "model_name": "LeafletWidgetControlModel",
          "model_module_version": "^0.17",
          "state": {
            "_model_module": "jupyter-leaflet",
            "_model_module_version": "^0.17",
            "_model_name": "LeafletWidgetControlModel",
            "_view_count": null,
            "_view_module": "jupyter-leaflet",
            "_view_module_version": "^0.17",
            "_view_name": "LeafletWidgetControlView",
            "max_height": null,
            "max_width": null,
            "min_height": null,
            "min_width": null,
            "options": [
              "position",
              "transparent_bg"
            ],
            "position": "topright",
            "transparent_bg": false,
            "widget": "IPY_MODEL_9d1acb1f168b49e99d5e7c97103bf431"
          }
        },
        "b9461caa95da4b3fa54d923e2dff5d90": {
          "model_module": "jupyter-leaflet",
          "model_name": "LeafletAttributionControlModel",
          "model_module_version": "^0.17",
          "state": {
            "_model_module": "jupyter-leaflet",
            "_model_module_version": "^0.17",
            "_model_name": "LeafletAttributionControlModel",
            "_view_count": null,
            "_view_module": "jupyter-leaflet",
            "_view_module_version": "^0.17",
            "_view_name": "LeafletAttributionControlView",
            "options": [
              "position",
              "prefix"
            ],
            "position": "bottomright",
            "prefix": "ipyleaflet"
          }
        },
        "936014c0582c43e19271f96024fd190d": {
          "model_module": "jupyter-leaflet",
          "model_name": "LeafletLayersControlModel",
          "model_module_version": "^0.17",
          "state": {
            "_model_module": "jupyter-leaflet",
            "_model_module_version": "^0.17",
            "_model_name": "LeafletLayersControlModel",
            "_view_count": null,
            "_view_module": "jupyter-leaflet",
            "_view_module_version": "^0.17",
            "_view_name": "LeafletLayersControlView",
            "options": [
              "position"
            ],
            "position": "topright"
          }
        },
        "9e6166a1e8b046ca9b711d66d52b5019": {
          "model_module": "jupyter-leaflet",
          "model_name": "LeafletMapStyleModel",
          "model_module_version": "^0.17",
          "state": {
            "_model_module": "jupyter-leaflet",
            "_model_module_version": "^0.17",
            "_model_name": "LeafletMapStyleModel",
            "_view_count": null,
            "_view_module": "@jupyter-widgets/base",
            "_view_module_version": "1.2.0",
            "_view_name": "StyleView",
            "cursor": "grab"
          }
        },
        "a7851b7c66284cd587c9d54b44305171": {
          "model_module": "jupyter-leaflet",
          "model_name": "LeafletMapStyleModel",
          "model_module_version": "^0.17",
          "state": {
            "_model_module": "jupyter-leaflet",
            "_model_module_version": "^0.17",
            "_model_name": "LeafletMapStyleModel",
            "_view_count": null,
            "_view_module": "@jupyter-widgets/base",
            "_view_module_version": "1.2.0",
            "_view_name": "StyleView",
            "cursor": "move"
          }
        },
        "ce37fab56d5c41e787eb3585e996b353": {
          "model_module": "jupyter-leaflet",
          "model_name": "LeafletTileLayerModel",
          "model_module_version": "^0.17",
          "state": {
            "_model_module": "jupyter-leaflet",
            "_model_module_version": "^0.17",
            "_model_name": "LeafletTileLayerModel",
            "_view_count": null,
            "_view_module": "jupyter-leaflet",
            "_view_module_version": "^0.17",
            "_view_name": "LeafletTileLayerView",
            "attribution": "&copy; <a href=\"https://www.openstreetmap.org/copyright\">OpenStreetMap</a> contributors",
            "base": true,
            "bottom": true,
            "bounds": null,
            "detect_retina": false,
            "loading": false,
            "max_native_zoom": null,
            "max_zoom": 19,
            "min_native_zoom": null,
            "min_zoom": 1,
            "name": "OpenStreetMap.Mapnik",
            "no_wrap": false,
            "opacity": 1,
            "options": [
              "attribution",
              "bounds",
              "detect_retina",
              "max_native_zoom",
              "max_zoom",
              "min_native_zoom",
              "min_zoom",
              "no_wrap",
              "tile_size",
              "tms",
              "zoom_offset"
            ],
            "pane": "",
            "popup": null,
            "popup_max_height": null,
            "popup_max_width": 300,
            "popup_min_width": 50,
            "show_loading": false,
            "subitems": [],
            "tile_size": 256,
            "tms": false,
            "url": "https://tile.openstreetmap.org/{z}/{x}/{y}.png",
            "visible": true,
            "zoom_offset": 0
          }
        },
        "2e64a8062bed4340bb9306e2be570036": {
          "model_module": "jupyter-leaflet",
          "model_name": "LeafletTileLayerModel",
          "model_module_version": "^0.17",
          "state": {
            "_model_module": "jupyter-leaflet",
            "_model_module_version": "^0.17",
            "_model_name": "LeafletTileLayerModel",
            "_view_count": null,
            "_view_module": "jupyter-leaflet",
            "_view_module_version": "^0.17",
            "_view_name": "LeafletTileLayerView",
            "attribution": "Google",
            "base": false,
            "bottom": true,
            "bounds": null,
            "detect_retina": false,
            "loading": false,
            "max_native_zoom": null,
            "max_zoom": 24,
            "min_native_zoom": null,
            "min_zoom": 0,
            "name": "Google Maps",
            "no_wrap": false,
            "opacity": 1,
            "options": [
              "attribution",
              "bounds",
              "detect_retina",
              "max_native_zoom",
              "max_zoom",
              "min_native_zoom",
              "min_zoom",
              "no_wrap",
              "tile_size",
              "tms",
              "zoom_offset"
            ],
            "pane": "",
            "popup": null,
            "popup_max_height": null,
            "popup_max_width": 300,
            "popup_min_width": 50,
            "show_loading": false,
            "subitems": [],
            "tile_size": 256,
            "tms": false,
            "url": "https://mt1.google.com/vt/lyrs=m&x={x}&y={y}&z={z}",
            "visible": true,
            "zoom_offset": 0
          }
        },
        "5dd705d6fdf74f64bc779b02dbf79846": {
          "model_module": "@jupyter-widgets/base",
          "model_name": "LayoutModel",
          "model_module_version": "1.2.0",
          "state": {
            "_model_module": "@jupyter-widgets/base",
            "_model_module_version": "1.2.0",
            "_model_name": "LayoutModel",
            "_view_count": null,
            "_view_module": "@jupyter-widgets/base",
            "_view_module_version": "1.2.0",
            "_view_name": "LayoutView",
            "align_content": null,
            "align_items": null,
            "align_self": null,
            "border": null,
            "bottom": null,
            "display": null,
            "flex": null,
            "flex_flow": null,
            "grid_area": null,
            "grid_auto_columns": null,
            "grid_auto_flow": null,
            "grid_auto_rows": null,
            "grid_column": null,
            "grid_gap": null,
            "grid_row": null,
            "grid_template_areas": null,
            "grid_template_columns": null,
            "grid_template_rows": null,
            "height": "600px",
            "justify_content": null,
            "justify_items": null,
            "left": null,
            "margin": null,
            "max_height": null,
            "max_width": null,
            "min_height": null,
            "min_width": null,
            "object_fit": null,
            "object_position": null,
            "order": null,
            "overflow": null,
            "overflow_x": null,
            "overflow_y": null,
            "padding": null,
            "right": null,
            "top": null,
            "visibility": null,
            "width": null
          }
        },
        "e6f49249f3924f918292faf8a0111e1a": {
          "model_module": "jupyter-leaflet",
          "model_name": "LeafletMapStyleModel",
          "model_module_version": "^0.17",
          "state": {
            "_model_module": "jupyter-leaflet",
            "_model_module_version": "^0.17",
            "_model_name": "LeafletMapStyleModel",
            "_view_count": null,
            "_view_module": "@jupyter-widgets/base",
            "_view_module_version": "1.2.0",
            "_view_name": "StyleView",
            "cursor": "grab"
          }
        },
        "12a7d4a1ad294c8fa21c75a8d2ef40f3": {
          "model_module": "@jupyter-widgets/controls",
          "model_name": "HBoxModel",
          "model_module_version": "1.5.0",
          "state": {
            "_dom_classes": [],
            "_model_module": "@jupyter-widgets/controls",
            "_model_module_version": "1.5.0",
            "_model_name": "HBoxModel",
            "_view_count": null,
            "_view_module": "@jupyter-widgets/controls",
            "_view_module_version": "1.5.0",
            "_view_name": "HBoxView",
            "box_style": "",
            "children": [
              "IPY_MODEL_f7defb671ebb4017b17d70e5c16e0091"
            ],
            "layout": "IPY_MODEL_fcf08450bfc543799be2c86643b2e6c0"
          }
        },
        "9d1acb1f168b49e99d5e7c97103bf431": {
          "model_module": "@jupyter-widgets/controls",
          "model_name": "VBoxModel",
          "model_module_version": "1.5.0",
          "state": {
            "_dom_classes": [],
            "_model_module": "@jupyter-widgets/controls",
            "_model_module_version": "1.5.0",
            "_model_name": "VBoxModel",
            "_view_count": null,
            "_view_module": "@jupyter-widgets/controls",
            "_view_module_version": "1.5.0",
            "_view_name": "VBoxView",
            "box_style": "",
            "children": [
              "IPY_MODEL_2a070c0ffeb64d2a891fcb4ffc55ee0c"
            ],
            "layout": "IPY_MODEL_a4cb8171b13e4010b903f2db6f9a95c1"
          }
        },
        "f7defb671ebb4017b17d70e5c16e0091": {
          "model_module": "@jupyter-widgets/controls",
          "model_name": "ToggleButtonModel",
          "model_module_version": "1.5.0",
          "state": {
            "_dom_classes": [],
            "_model_module": "@jupyter-widgets/controls",
            "_model_module_version": "1.5.0",
            "_model_name": "ToggleButtonModel",
            "_view_count": null,
            "_view_module": "@jupyter-widgets/controls",
            "_view_module_version": "1.5.0",
            "_view_name": "ToggleButtonView",
            "button_style": "",
            "description": "",
            "description_tooltip": null,
            "disabled": false,
            "icon": "globe",
            "layout": "IPY_MODEL_a3bfb863c21141db90750a277263b31a",
            "style": "IPY_MODEL_438c6894b8ae4a69aba6051f2950e72b",
            "tooltip": "Search location/data",
            "value": false
          }
        },
        "fcf08450bfc543799be2c86643b2e6c0": {
          "model_module": "@jupyter-widgets/base",
          "model_name": "LayoutModel",
          "model_module_version": "1.2.0",
          "state": {
            "_model_module": "@jupyter-widgets/base",
            "_model_module_version": "1.2.0",
            "_model_name": "LayoutModel",
            "_view_count": null,
            "_view_module": "@jupyter-widgets/base",
            "_view_module_version": "1.2.0",
            "_view_name": "LayoutView",
            "align_content": null,
            "align_items": null,
            "align_self": null,
            "border": null,
            "bottom": null,
            "display": null,
            "flex": null,
            "flex_flow": null,
            "grid_area": null,
            "grid_auto_columns": null,
            "grid_auto_flow": null,
            "grid_auto_rows": null,
            "grid_column": null,
            "grid_gap": null,
            "grid_row": null,
            "grid_template_areas": null,
            "grid_template_columns": null,
            "grid_template_rows": null,
            "height": null,
            "justify_content": null,
            "justify_items": null,
            "left": null,
            "margin": null,
            "max_height": null,
            "max_width": null,
            "min_height": null,
            "min_width": null,
            "object_fit": null,
            "object_position": null,
            "order": null,
            "overflow": null,
            "overflow_x": null,
            "overflow_y": null,
            "padding": null,
            "right": null,
            "top": null,
            "visibility": null,
            "width": null
          }
        },
        "2a070c0ffeb64d2a891fcb4ffc55ee0c": {
          "model_module": "@jupyter-widgets/controls",
          "model_name": "ToggleButtonModel",
          "model_module_version": "1.5.0",
          "state": {
            "_dom_classes": [],
            "_model_module": "@jupyter-widgets/controls",
            "_model_module_version": "1.5.0",
            "_model_name": "ToggleButtonModel",
            "_view_count": null,
            "_view_module": "@jupyter-widgets/controls",
            "_view_module_version": "1.5.0",
            "_view_name": "ToggleButtonView",
            "button_style": "",
            "description": "",
            "description_tooltip": null,
            "disabled": false,
            "icon": "wrench",
            "layout": "IPY_MODEL_37e627c79f19401083c41fab8fcff13d",
            "style": "IPY_MODEL_fb0e099173bd4200b10c2958b31a833d",
            "tooltip": "Toolbar",
            "value": false
          }
        },
        "a4cb8171b13e4010b903f2db6f9a95c1": {
          "model_module": "@jupyter-widgets/base",
          "model_name": "LayoutModel",
          "model_module_version": "1.2.0",
          "state": {
            "_model_module": "@jupyter-widgets/base",
            "_model_module_version": "1.2.0",
            "_model_name": "LayoutModel",
            "_view_count": null,
            "_view_module": "@jupyter-widgets/base",
            "_view_module_version": "1.2.0",
            "_view_name": "LayoutView",
            "align_content": null,
            "align_items": null,
            "align_self": null,
            "border": null,
            "bottom": null,
            "display": null,
            "flex": null,
            "flex_flow": null,
            "grid_area": null,
            "grid_auto_columns": null,
            "grid_auto_flow": null,
            "grid_auto_rows": null,
            "grid_column": null,
            "grid_gap": null,
            "grid_row": null,
            "grid_template_areas": null,
            "grid_template_columns": null,
            "grid_template_rows": null,
            "height": null,
            "justify_content": null,
            "justify_items": null,
            "left": null,
            "margin": null,
            "max_height": null,
            "max_width": null,
            "min_height": null,
            "min_width": null,
            "object_fit": null,
            "object_position": null,
            "order": null,
            "overflow": null,
            "overflow_x": null,
            "overflow_y": null,
            "padding": null,
            "right": null,
            "top": null,
            "visibility": null,
            "width": null
          }
        },
        "a3bfb863c21141db90750a277263b31a": {
          "model_module": "@jupyter-widgets/base",
          "model_name": "LayoutModel",
          "model_module_version": "1.2.0",
          "state": {
            "_model_module": "@jupyter-widgets/base",
            "_model_module_version": "1.2.0",
            "_model_name": "LayoutModel",
            "_view_count": null,
            "_view_module": "@jupyter-widgets/base",
            "_view_module_version": "1.2.0",
            "_view_name": "LayoutView",
            "align_content": null,
            "align_items": null,
            "align_self": null,
            "border": null,
            "bottom": null,
            "display": null,
            "flex": null,
            "flex_flow": null,
            "grid_area": null,
            "grid_auto_columns": null,
            "grid_auto_flow": null,
            "grid_auto_rows": null,
            "grid_column": null,
            "grid_gap": null,
            "grid_row": null,
            "grid_template_areas": null,
            "grid_template_columns": null,
            "grid_template_rows": null,
            "height": "28px",
            "justify_content": null,
            "justify_items": null,
            "left": null,
            "margin": null,
            "max_height": null,
            "max_width": null,
            "min_height": null,
            "min_width": null,
            "object_fit": null,
            "object_position": null,
            "order": null,
            "overflow": null,
            "overflow_x": null,
            "overflow_y": null,
            "padding": "0px 0px 0px 4px",
            "right": null,
            "top": null,
            "visibility": null,
            "width": "28px"
          }
        },
        "438c6894b8ae4a69aba6051f2950e72b": {
          "model_module": "@jupyter-widgets/controls",
          "model_name": "DescriptionStyleModel",
          "model_module_version": "1.5.0",
          "state": {
            "_model_module": "@jupyter-widgets/controls",
            "_model_module_version": "1.5.0",
            "_model_name": "DescriptionStyleModel",
            "_view_count": null,
            "_view_module": "@jupyter-widgets/base",
            "_view_module_version": "1.2.0",
            "_view_name": "StyleView",
            "description_width": ""
          }
        },
        "37e627c79f19401083c41fab8fcff13d": {
          "model_module": "@jupyter-widgets/base",
          "model_name": "LayoutModel",
          "model_module_version": "1.2.0",
          "state": {
            "_model_module": "@jupyter-widgets/base",
            "_model_module_version": "1.2.0",
            "_model_name": "LayoutModel",
            "_view_count": null,
            "_view_module": "@jupyter-widgets/base",
            "_view_module_version": "1.2.0",
            "_view_name": "LayoutView",
            "align_content": null,
            "align_items": null,
            "align_self": null,
            "border": null,
            "bottom": null,
            "display": null,
            "flex": null,
            "flex_flow": null,
            "grid_area": null,
            "grid_auto_columns": null,
            "grid_auto_flow": null,
            "grid_auto_rows": null,
            "grid_column": null,
            "grid_gap": null,
            "grid_row": null,
            "grid_template_areas": null,
            "grid_template_columns": null,
            "grid_template_rows": null,
            "height": "28px",
            "justify_content": null,
            "justify_items": null,
            "left": null,
            "margin": null,
            "max_height": null,
            "max_width": null,
            "min_height": null,
            "min_width": null,
            "object_fit": null,
            "object_position": null,
            "order": null,
            "overflow": null,
            "overflow_x": null,
            "overflow_y": null,
            "padding": "0px 0px 0px 4px",
            "right": null,
            "top": null,
            "visibility": null,
            "width": "28px"
          }
        },
        "fb0e099173bd4200b10c2958b31a833d": {
          "model_module": "@jupyter-widgets/controls",
          "model_name": "DescriptionStyleModel",
          "model_module_version": "1.5.0",
          "state": {
            "_model_module": "@jupyter-widgets/controls",
            "_model_module_version": "1.5.0",
            "_model_name": "DescriptionStyleModel",
            "_view_count": null,
            "_view_module": "@jupyter-widgets/base",
            "_view_module_version": "1.2.0",
            "_view_name": "StyleView",
            "description_width": ""
          }
        }
      }
    }
  },
  "nbformat": 4,
  "nbformat_minor": 0
}